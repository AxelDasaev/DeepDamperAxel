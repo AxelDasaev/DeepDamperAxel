{
  "nbformat": 4,
  "nbformat_minor": 0,
  "metadata": {
    "kernelspec": {
      "display_name": "Python 3",
      "language": "python",
      "name": "python3"
    },
    "language_info": {
      "codemirror_mode": {
        "name": "ipython",
        "version": 3
      },
      "file_extension": ".py",
      "mimetype": "text/x-python",
      "name": "python",
      "nbconvert_exporter": "python",
      "pygments_lexer": "ipython3",
      "version": "3.7.7"
    },
    "colab": {
      "name": "DeepDamper_Axel.ipynb",
      "provenance": [],
      "toc_visible": true
    },
    "accelerator": "GPU"
  },
  "cells": [
    {
      "cell_type": "code",
      "metadata": {
        "id": "S-adwM_W5daG",
        "colab_type": "code",
        "colab": {
          "base_uri": "https://localhost:8080/",
          "height": 33
        },
        "outputId": "3bb95ead-d712-4e1e-988b-1f2388f23062"
      },
      "source": [
        "! pwd"
      ],
      "execution_count": 1,
      "outputs": [
        {
          "output_type": "stream",
          "text": [
            "/content\n"
          ],
          "name": "stdout"
        }
      ]
    },
    {
      "cell_type": "code",
      "metadata": {
        "id": "jzbaQ6TN5wdF",
        "colab_type": "code",
        "colab": {
          "base_uri": "https://localhost:8080/",
          "height": 33
        },
        "outputId": "66ef2895-3ee5-47f8-90d2-c3a5472699c6"
      },
      "source": [
        "! ls"
      ],
      "execution_count": 2,
      "outputs": [
        {
          "output_type": "stream",
          "text": [
            "sample_data\n"
          ],
          "name": "stdout"
        }
      ]
    },
    {
      "cell_type": "code",
      "metadata": {
        "id": "umXsNQ7A4a2P",
        "colab_type": "code",
        "colab": {
          "base_uri": "https://localhost:8080/",
          "height": 117
        },
        "outputId": "e48654f2-5195-4acf-fa15-c702023fda5f"
      },
      "source": [
        "! git clone https://github.com/AxelDasaev/DeepDamperAxel.git"
      ],
      "execution_count": 3,
      "outputs": [
        {
          "output_type": "stream",
          "text": [
            "Cloning into 'DeepDamperAxel'...\n",
            "remote: Enumerating objects: 27, done.\u001b[K\n",
            "remote: Counting objects: 100% (27/27), done.\u001b[K\n",
            "remote: Compressing objects: 100% (26/26), done.\u001b[K\n",
            "remote: Total 27 (delta 8), reused 0 (delta 0), pack-reused 0\u001b[K\n",
            "Unpacking objects: 100% (27/27), done.\n"
          ],
          "name": "stdout"
        }
      ]
    },
    {
      "cell_type": "code",
      "metadata": {
        "id": "KyEVk5Op4a2T",
        "colab_type": "code",
        "colab": {
          "base_uri": "https://localhost:8080/",
          "height": 33
        },
        "outputId": "4e86031d-28fa-460e-fd22-e4ead307ca8d"
      },
      "source": [
        "%cd DeepDamperAxel"
      ],
      "execution_count": 5,
      "outputs": [
        {
          "output_type": "stream",
          "text": [
            "/content/DeepDamperAxel\n"
          ],
          "name": "stdout"
        }
      ]
    },
    {
      "cell_type": "code",
      "metadata": {
        "id": "7_hbVYQU4a2W",
        "colab_type": "code",
        "colab": {}
      },
      "source": [
        "!git config --global user.email \"axeldasaev@gmail.com\"\n",
        "!git config --global user.name \"AxelDasaev\"\n",
        "!git remote rm origin\n",
        "!git remote add origin https://token@github.com/AxelDasaev/DeepDamperAxel.git"
      ],
      "execution_count": 0,
      "outputs": []
    },
    {
      "cell_type": "code",
      "metadata": {
        "id": "E7V4bX-M4a2Z",
        "colab_type": "code",
        "colab": {}
      },
      "source": [
        "%tensorflow_version 2.x"
      ],
      "execution_count": 0,
      "outputs": []
    },
    {
      "cell_type": "code",
      "metadata": {
        "id": "jsZ_mveh4a2b",
        "colab_type": "code",
        "colab": {}
      },
      "source": [
        "import json\n",
        "import matplotlib.pyplot as plt\n",
        "import numpy as np\n",
        "import tensorflow as tf\n",
        "import time\n",
        "import os"
      ],
      "execution_count": 0,
      "outputs": []
    },
    {
      "cell_type": "code",
      "metadata": {
        "id": "4tBAcp0w4a2e",
        "colab_type": "code",
        "colab": {}
      },
      "source": [
        "def read_json(name):\n",
        "    #print(name)\n",
        "    with open(name) as data_file:    \n",
        "            data = json.load(data_file)\n",
        "    return data"
      ],
      "execution_count": 0,
      "outputs": []
    },
    {
      "cell_type": "code",
      "metadata": {
        "id": "a5wSe_Ks4a2h",
        "colab_type": "code",
        "colab": {}
      },
      "source": [
        "def data_proces(name,Deface=100,NumSam=200):\n",
        "    datos=read_json(name)\n",
        "    entradas=read_json('_'.join(('inp',name)))\n",
        "    train=np.array([[0,0,0,0,0,0,0,0,0],[0,0,0,0,0,0,0,0,0]])\n",
        "    referencia=[0]\n",
        "    for key in datos.keys():\n",
        "        #print(len(datos[key]))\n",
        "        for k,exp in enumerate(datos[key]):\n",
        "            VelC=exp[\"velocity\"]\n",
        "            forceC=exp[\"force\"]\n",
        "            VelCj=[round(elem, 1) for elem in VelC]\n",
        "            Conj=set(VelCj)\n",
        "            infbar=100\n",
        "            for elem in list(Conj):\n",
        "                indices=[i for i,x in enumerate(VelCj) if x==elem]\n",
        "                for ind in range(len(indices)-1):\n",
        "                    if forceC[indices[ind]] == forceC[indices[ind+1]] and indices[ind]> 120:\n",
        "                        reference = [indices[ind],indices[ind+1]]\n",
        "                        break\n",
        "                    elif abs(forceC[indices[ind]]-forceC[indices[ind+1]])<infbar and indices[ind+1]-indices[ind]>20 and indices[ind+1]-indices[ind]<200 and indices[ind]> 120:\n",
        "                        tempref = [indices[ind],indices[ind+1]]\n",
        "                        infbar = abs(forceC[indices[ind]]-forceC[indices[ind+1]])\n",
        "                if 'reference' in locals():\n",
        "                    break\n",
        "            \n",
        "            if 'reference' in locals():    \n",
        "                Deface = reference[0]\n",
        "                NumSam = reference[1] - reference[0]\n",
        "                del reference\n",
        "            else:\n",
        "                Deface = tempref[0]\n",
        "                NumSam = tempref[1] - tempref[0]\n",
        "                del tempref\n",
        "            referencia.append(referencia[-1]+NumSam+1)\n",
        "            for element in range(NumSam+1):\n",
        "                caso=list()\n",
        "                caso.append(entradas[key][\"Ap\"])\n",
        "                caso.append(entradas[key][\"Ag\"])\n",
        "                caso.append(entradas[key][\"h\"])\n",
        "                caso.append(entradas[key][\"L\"])\n",
        "                caso.append(entradas[key][\"viscocidad\"])\n",
        "                caso.append(entradas[key][\"Ty\"][k]/1000)\n",
        "                caso.append((exp[\"velocity\"][element+Deface])*0.001)\n",
        "                caso.append(exp[\"displace\"][element+Deface])\n",
        "                caso.append(exp[\"force\"][element+Deface])\n",
        "                casonp=np.array(caso)\n",
        "                #print(len(casonp))\n",
        "                train=np.append(train,[casonp],axis=0)\n",
        "            \n",
        "    return train[2:][:],referencia\n"
      ],
      "execution_count": 0,
      "outputs": []
    },
    {
      "cell_type": "code",
      "metadata": {
        "id": "Zo2AGbFo4a2l",
        "colab_type": "code",
        "colab": {}
      },
      "source": [
        "def Target_C(data):\n",
        "    Arn=(data[0]+((data[1])/2))\n",
        "    Fn=((12*(data[4])*Arn*(data[6]/10))/((data[1])*data[2]*data[2]))\n",
        "    Fn=Fn*(data[0]*data[3])\n",
        "    Fty=data[8]-Fn\n",
        "    c=((Fty*data[2])/(data[3]*data[0]*data[5]*1000))\n",
        "    return Fty\n"
      ],
      "execution_count": 0,
      "outputs": []
    },
    {
      "cell_type": "code",
      "metadata": {
        "id": "oplZVXJW4a2o",
        "colab_type": "code",
        "colab": {}
      },
      "source": [
        "def force_limit(data):\n",
        "    Arn=(data[0]+((data[1])/2))\n",
        "    Fn=((12*(data[4])*Arn*(data[6]))/((data[1])*data[2]*data[2]))\n",
        "    Fn=Fn*(data[0]*data[3])\n",
        "    #c=2.07+((12*data[4]*data[0]*data[6])/((12*data[4]*data[0]*data[6])+(0.4*data[1]*data[2]*data[5])))\n",
        "    c=1.07\n",
        "    Fty= (c*data[3]*data[0]*data[5]*1000)/(data[2])\n",
        "    fr=Fn+Fty\n",
        "    #print(fr)\n",
        "    #print(data[8])\n",
        "    return fr"
      ],
      "execution_count": 0,
      "outputs": []
    },
    {
      "cell_type": "code",
      "metadata": {
        "id": "DzE8TdBY4a2q",
        "colab_type": "code",
        "colab": {}
      },
      "source": [
        "train,refer=data_proces(\"twofluidexp.json\",Deface=120,NumSam=260)\n",
        "#rint(train.shape)\n",
        "#print(train[1:4])\n",
        "np.random.shuffle(train)\n",
        "#train[1:4,8:9].shape\n",
        "#print(train[20][])\n",
        "#print(refer)"
      ],
      "execution_count": 0,
      "outputs": []
    },
    {
      "cell_type": "code",
      "metadata": {
        "id": "UW8ygv0p4a2t",
        "colab_type": "code",
        "colab": {}
      },
      "source": [
        "Train=np.array(train)[:,:8].astype(\"float32\")\n",
        "Target=np.array(train)[:,8:9].astype(\"float32\")"
      ],
      "execution_count": 0,
      "outputs": []
    },
    {
      "cell_type": "code",
      "metadata": {
        "id": "pZPwNSC_4a2x",
        "colab_type": "code",
        "colab": {}
      },
      "source": [
        "checkpoint_path = \"training_1/cp.ckpt\"\n",
        "checkpoint_dir = os.path.dirname(checkpoint_path)\n",
        "# Create a callback that saves the model's weights\n",
        "cp_callback = tf.keras.callbacks.ModelCheckpoint(filepath=checkpoint_path,\n",
        "                                                 save_weights_only=True,\n",
        "                                                 verbose=1)"
      ],
      "execution_count": 0,
      "outputs": []
    },
    {
      "cell_type": "markdown",
      "metadata": {
        "id": "jDiZSwIC4a20",
        "colab_type": "text"
      },
      "source": [
        "## Arquitectura de la red usando el modelo de Keras por medio objetos"
      ]
    },
    {
      "cell_type": "code",
      "metadata": {
        "id": "Yw8YsM0W4a21",
        "colab_type": "code",
        "colab": {}
      },
      "source": [
        "class DeepDamper(tf.keras.Model):\n",
        "  def __init__(self):\n",
        "    super(DeepDamper, self).__init__()\n",
        "    self.HL1 = tf.keras.layers.Dense(15, input_shape=(8,) , activation='relu')\n",
        "    self.HL2 = tf.keras.layers.Dense(15, activation = 'relu')\n",
        "    self.HL3 = tf.keras.layers.Dense(15, activation = 'relu')\n",
        "    self.out = tf.keras.layers.Dense(1)\n",
        "    # Seleccionar una funcion de error, optimizador y metricas de evaluacion \n",
        "    self.compile(optimizer=tf.keras.optimizers.Adam(0.0001), loss=tf.keras.losses.MeanSquaredError())\n",
        "\n",
        "  def call(self, inputs):\n",
        "    x = self.HL1(inputs)\n",
        "    x = self.HL2(x)\n",
        "    x = self.HL3(x)\n",
        "    x = self.out(x)\n",
        "    return x"
      ],
      "execution_count": 0,
      "outputs": []
    },
    {
      "cell_type": "code",
      "metadata": {
        "id": "gwqExdHU4a23",
        "colab_type": "code",
        "colab": {}
      },
      "source": [
        "DamperModel = DeepDamper()\n",
        "DamperModel.fit(x=Train, y=Target,batch_size =20, epochs=100,callbacks=[cp_callback])"
      ],
      "execution_count": 0,
      "outputs": []
    },
    {
      "cell_type": "code",
      "metadata": {
        "id": "mL2caGkx4a25",
        "colab_type": "code",
        "colab": {}
      },
      "source": [
        "DamperModel.save('my_net') "
      ],
      "execution_count": 0,
      "outputs": []
    },
    {
      "cell_type": "code",
      "metadata": {
        "id": "y8TubZw84a28",
        "colab_type": "code",
        "colab": {}
      },
      "source": [
        "!git add -A\n",
        "!git commit -m \"Se agrego entrenamiento1\"\n",
        "!git push -u origin master"
      ],
      "execution_count": 0,
      "outputs": []
    }
  ]
}