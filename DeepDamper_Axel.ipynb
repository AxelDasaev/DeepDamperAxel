{
 "cells": [
  {
   "cell_type": "code",
   "execution_count": null,
   "metadata": {},
   "outputs": [],
   "source": [
    "! git clone https://github.com/Duchanoy/DeepDamper.git"
   ]
  },
  {
   "cell_type": "code",
   "execution_count": null,
   "metadata": {},
   "outputs": [],
   "source": [
    "%cd DeepDamper"
   ]
  },
  {
   "cell_type": "code",
   "execution_count": null,
   "metadata": {},
   "outputs": [],
   "source": [
    "!git config --global user.email \"duch97@hotmail.com\"\n",
    "!git config --global user.name \"Duchanoy\"\n",
    "!git remote rm origin\n",
    "!git remote add origin https://token@github.com/Duchanoy/DeepDamper.git"
   ]
  },
  {
   "cell_type": "code",
   "execution_count": null,
   "metadata": {},
   "outputs": [],
   "source": [
    "%tensorflow_version 2.x"
   ]
  },
  {
   "cell_type": "code",
   "execution_count": null,
   "metadata": {},
   "outputs": [],
   "source": [
    "import json\n",
    "import matplotlib.pyplot as plt\n",
    "import numpy as np\n",
    "import tensorflow as tf\n",
    "import time\n",
    "import os"
   ]
  },
  {
   "cell_type": "code",
   "execution_count": null,
   "metadata": {},
   "outputs": [],
   "source": [
    "def read_json(name):\n",
    "    #print(name)\n",
    "    with open(name) as data_file:    \n",
    "            data = json.load(data_file)\n",
    "    return data"
   ]
  },
  {
   "cell_type": "code",
   "execution_count": null,
   "metadata": {},
   "outputs": [],
   "source": [
    "def data_proces(name,Deface=100,NumSam=200):\n",
    "    datos=read_json(name)\n",
    "    entradas=read_json('_'.join(('inp',name)))\n",
    "    train=np.array([[0,0,0,0,0,0,0,0,0],[0,0,0,0,0,0,0,0,0]])\n",
    "    referencia=[0]\n",
    "    for key in datos.keys():\n",
    "        #print(len(datos[key]))\n",
    "        for k,exp in enumerate(datos[key]):\n",
    "            VelC=exp[\"velocity\"]\n",
    "            forceC=exp[\"force\"]\n",
    "            VelCj=[round(elem, 1) for elem in VelC]\n",
    "            Conj=set(VelCj)\n",
    "            infbar=100\n",
    "            for elem in list(Conj):\n",
    "                indices=[i for i,x in enumerate(VelCj) if x==elem]\n",
    "                for ind in range(len(indices)-1):\n",
    "                    if forceC[indices[ind]] == forceC[indices[ind+1]] and indices[ind]> 120:\n",
    "                        reference = [indices[ind],indices[ind+1]]\n",
    "                        break\n",
    "                    elif abs(forceC[indices[ind]]-forceC[indices[ind+1]])<infbar and indices[ind+1]-indices[ind]>20 and indices[ind+1]-indices[ind]<200 and indices[ind]> 120:\n",
    "                        tempref = [indices[ind],indices[ind+1]]\n",
    "                        infbar = abs(forceC[indices[ind]]-forceC[indices[ind+1]])\n",
    "                if 'reference' in locals():\n",
    "                    break\n",
    "            \n",
    "            if 'reference' in locals():    \n",
    "                Deface = reference[0]\n",
    "                NumSam = reference[1] - reference[0]\n",
    "                del reference\n",
    "            else:\n",
    "                Deface = tempref[0]\n",
    "                NumSam = tempref[1] - tempref[0]\n",
    "                del tempref\n",
    "            referencia.append(referencia[-1]+NumSam+1)\n",
    "            for element in range(NumSam+1):\n",
    "                caso=list()\n",
    "                caso.append(entradas[key][\"Ap\"])\n",
    "                caso.append(entradas[key][\"Ag\"])\n",
    "                caso.append(entradas[key][\"h\"])\n",
    "                caso.append(entradas[key][\"L\"])\n",
    "                caso.append(entradas[key][\"viscocidad\"])\n",
    "                caso.append(entradas[key][\"Ty\"][k]/1000)\n",
    "                caso.append((exp[\"velocity\"][element+Deface])*0.001)\n",
    "                caso.append(exp[\"displace\"][element+Deface])\n",
    "                caso.append(exp[\"force\"][element+Deface])\n",
    "                casonp=np.array(caso)\n",
    "                #print(len(casonp))\n",
    "                train=np.append(train,[casonp],axis=0)\n",
    "            \n",
    "    return train[2:][:],referencia\n"
   ]
  },
  {
   "cell_type": "code",
   "execution_count": null,
   "metadata": {},
   "outputs": [],
   "source": [
    "def Target_C(data):\n",
    "    Arn=(data[0]+((data[1])/2))\n",
    "    Fn=((12*(data[4])*Arn*(data[6]/10))/((data[1])*data[2]*data[2]))\n",
    "    Fn=Fn*(data[0]*data[3])\n",
    "    Fty=data[8]-Fn\n",
    "    c=((Fty*data[2])/(data[3]*data[0]*data[5]*1000))\n",
    "    return Fty\n"
   ]
  },
  {
   "cell_type": "code",
   "execution_count": null,
   "metadata": {},
   "outputs": [],
   "source": [
    "def force_limit(data):\n",
    "    Arn=(data[0]+((data[1])/2))\n",
    "    Fn=((12*(data[4])*Arn*(data[6]))/((data[1])*data[2]*data[2]))\n",
    "    Fn=Fn*(data[0]*data[3])\n",
    "    #c=2.07+((12*data[4]*data[0]*data[6])/((12*data[4]*data[0]*data[6])+(0.4*data[1]*data[2]*data[5])))\n",
    "    c=1.07\n",
    "    Fty= (c*data[3]*data[0]*data[5]*1000)/(data[2])\n",
    "    fr=Fn+Fty\n",
    "    #print(fr)\n",
    "    #print(data[8])\n",
    "    return fr"
   ]
  },
  {
   "cell_type": "code",
   "execution_count": null,
   "metadata": {},
   "outputs": [],
   "source": [
    "train,refer=data_proces(\"twofluidexp.json\",Deface=120,NumSam=260)\n",
    "#rint(train.shape)\n",
    "#print(train[1:4])\n",
    "np.random.shuffle(train)\n",
    "#train[1:4,8:9].shape\n",
    "#print(train[20][])\n",
    "#print(refer)"
   ]
  },
  {
   "cell_type": "code",
   "execution_count": null,
   "metadata": {},
   "outputs": [],
   "source": [
    "Train=np.array(train)[:,:8].astype(\"float32\")\n",
    "Target=np.array(train)[:,8:9].astype(\"float32\")"
   ]
  },
  {
   "cell_type": "code",
   "execution_count": null,
   "metadata": {},
   "outputs": [],
   "source": [
    "checkpoint_path = \"training_1/cp.ckpt\"\n",
    "checkpoint_dir = os.path.dirname(checkpoint_path)\n",
    "# Create a callback that saves the model's weights\n",
    "cp_callback = tf.keras.callbacks.ModelCheckpoint(filepath=checkpoint_path,\n",
    "                                                 save_weights_only=True,\n",
    "                                                 verbose=1)"
   ]
  },
  {
   "cell_type": "markdown",
   "metadata": {},
   "source": [
    "## Arquitectura de la red usando el modelo de Keras por medio objetos"
   ]
  },
  {
   "cell_type": "code",
   "execution_count": null,
   "metadata": {},
   "outputs": [],
   "source": [
    "class DeepDamper(tf.keras.Model):\n",
    "  def __init__(self):\n",
    "    super(DeepDamper, self).__init__()\n",
    "    self.HL1 = tf.keras.layers.Dense(15, input_shape=(8,) , activation='relu')\n",
    "    self.HL2 = tf.keras.layers.Dense(15, activation = 'relu')\n",
    "    self.HL3 = tf.keras.layers.Dense(15, activation = 'relu')\n",
    "    self.out = tf.keras.layers.Dense(1)\n",
    "    # Seleccionar una funcion de error, optimizador y metricas de evaluacion \n",
    "    self.compile(optimizer=tf.keras.optimizers.Adam(0.0001), loss=tf.keras.losses.MeanSquaredError())\n",
    "\n",
    "  def call(self, inputs):\n",
    "    x = self.HL1(inputs)\n",
    "    x = self.HL2(x)\n",
    "    x = self.HL3(x)\n",
    "    x = self.out(x)\n",
    "    return x"
   ]
  },
  {
   "cell_type": "code",
   "execution_count": null,
   "metadata": {},
   "outputs": [],
   "source": [
    "DamperModel = DeepDamper()\n",
    "DamperModel.fit(x=Train, y=Target,batch_size =20, epochs=10000,callbacks=[cp_callback])"
   ]
  },
  {
   "cell_type": "code",
   "execution_count": null,
   "metadata": {},
   "outputs": [],
   "source": [
    "DamperModel.save('my_net') "
   ]
  },
  {
   "cell_type": "code",
   "execution_count": null,
   "metadata": {},
   "outputs": [],
   "source": [
    "!git add -A\n",
    "!git commit -m \"Se agrego entrenamiento1\"\n",
    "!git push -u origin master"
   ]
  }
 ],
 "metadata": {
  "kernelspec": {
   "display_name": "Python 3",
   "language": "python",
   "name": "python3"
  },
  "language_info": {
   "codemirror_mode": {
    "name": "ipython",
    "version": 3
   },
   "file_extension": ".py",
   "mimetype": "text/x-python",
   "name": "python",
   "nbconvert_exporter": "python",
   "pygments_lexer": "ipython3",
   "version": "3.7.7"
  }
 },
 "nbformat": 4,
 "nbformat_minor": 4
}
